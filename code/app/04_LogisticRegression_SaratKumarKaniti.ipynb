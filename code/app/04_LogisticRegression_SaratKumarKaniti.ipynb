{
  "cells": [
    {
      "cell_type": "markdown",
      "id": "_ilWqGGqwwvY",
      "metadata": {
        "id": "_ilWqGGqwwvY"
      },
      "source": [
        "## Logistic Regression"
      ]
    },
    {
      "cell_type": "code",
      "execution_count": 460,
      "id": "5xu_sMH0w1Zh",
      "metadata": {
        "id": "5xu_sMH0w1Zh"
      },
      "outputs": [],
      "source": [
        "from sklearn.linear_model import LogisticRegression\n",
        "logmodel = LogisticRegression()\n",
        "logmodel.fit(x_train, y_train)\n",
        "predictions = logmodel.predict(x_test)"
      ]
    },
    {
      "cell_type": "code",
      "execution_count": 461,
      "id": "7ahWSzG6xcMN",
      "metadata": {
        "colab": {
          "base_uri": "https://localhost:8080/"
        },
        "id": "7ahWSzG6xcMN",
        "outputId": "6e55c9af-64c1-4fee-80b7-76893446233b"
      },
      "outputs": [
        {
          "data": {
            "text/plain": [
              "0.8386304314448026"
            ]
          },
          "execution_count": 461,
          "metadata": {},
          "output_type": "execute_result"
        }
      ],
      "source": [
        "metrics.accuracy_score(y_test,predictions)"
      ]
    },
    {
      "cell_type": "code",
      "execution_count": 469,
      "id": "0Y-Vam8bm-Im",
      "metadata": {
        "colab": {
          "base_uri": "https://localhost:8080/"
        },
        "id": "0Y-Vam8bm-Im",
        "outputId": "bb5faa98-1627-446c-df61-130383c3d25e"
      },
      "outputs": [
        {
          "name": "stdout",
          "output_type": "stream",
          "text": [
            "              precision    recall  f1-score   support\n",
            "\n",
            "           0       0.86      0.94      0.90      4908\n",
            "           1       0.74      0.54      0.62      1605\n",
            "\n",
            "    accuracy                           0.84      6513\n",
            "   macro avg       0.80      0.74      0.76      6513\n",
            "weighted avg       0.83      0.84      0.83      6513\n",
            "\n"
          ]
        }
      ],
      "source": [
        "print(classification_report(y_test, predictions))"
      ]
    }
  ],
  "metadata": {
    "colab": {
      "collapsed_sections": [],
      "name": "saraThhhuu.ipynb",
      "provenance": []
    },
    "kernelspec": {
      "display_name": "Python 3 (ipykernel)",
      "language": "python",
      "name": "python3"
    },
    "language_info": {
      "codemirror_mode": {
        "name": "ipython",
        "version": 3
      },
      "file_extension": ".py",
      "mimetype": "text/x-python",
      "name": "python",
      "nbconvert_exporter": "python",
      "pygments_lexer": "ipython3",
      "version": "3.9.7"
    }
  },
  "nbformat": 4,
  "nbformat_minor": 5
}
